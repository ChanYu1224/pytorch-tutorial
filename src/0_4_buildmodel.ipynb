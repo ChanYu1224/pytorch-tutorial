{
 "cells": [
  {
   "cell_type": "code",
   "execution_count": 18,
   "metadata": {},
   "outputs": [
    {
     "name": "stderr",
     "output_type": "stream",
     "text": [
      "UsageError: Line magic function `%matploblib` not found.\n"
     ]
    }
   ],
   "source": [
    "%matploblib inline"
   ]
  },
  {
   "cell_type": "code",
   "execution_count": 19,
   "metadata": {},
   "outputs": [],
   "source": [
    "import os\n",
    "import torch\n",
    "from torch import nn\n",
    "from torch.utils.data import DataLoader\n",
    "from torchvision import datasets, transforms"
   ]
  },
  {
   "cell_type": "code",
   "execution_count": 20,
   "metadata": {},
   "outputs": [
    {
     "name": "stdout",
     "output_type": "stream",
     "text": [
      "now using cuda:0 as device\n"
     ]
    }
   ],
   "source": [
    "device = ''\n",
    "gpu_num = 0\n",
    "if torch.cuda.is_available():\n",
    "    device = 'cuda:'+str(gpu_num)\n",
    "else:\n",
    "    device = 'cpu'\n",
    "\n",
    "print('now using '+ device +' as device')"
   ]
  },
  {
   "cell_type": "code",
   "execution_count": 21,
   "metadata": {},
   "outputs": [],
   "source": [
    "class NeuralNetwork(nn.Module):\n",
    "    def __init__(self):\n",
    "        super(NeuralNetwork, self).__init__()\n",
    "        self.flatten = nn.Flatten()\n",
    "        self.linear_relu_stack = nn.Sequential(\n",
    "            nn.Linear(28*28, 512),\n",
    "            nn.ReLU(),\n",
    "            nn.Linear(512, 512),\n",
    "            nn.ReLU(),\n",
    "            nn.Linear(512, 10),\n",
    "            nn.ReLU(),\n",
    "        )\n",
    "\n",
    "    def forward(self, x):\n",
    "        \"\"\"\n",
    "        xを入力に受け取り順伝播する\n",
    "        \"\"\"\n",
    "        x = self.flatten(x)\n",
    "        logits = self.linear_relu_stack(x)\n",
    "        return logits"
   ]
  },
  {
   "cell_type": "code",
   "execution_count": 22,
   "metadata": {},
   "outputs": [
    {
     "name": "stdout",
     "output_type": "stream",
     "text": [
      "NeuralNetwork(\n",
      "  (flatten): Flatten(start_dim=1, end_dim=-1)\n",
      "  (linear_relu_stack): Sequential(\n",
      "    (0): Linear(in_features=784, out_features=512, bias=True)\n",
      "    (1): ReLU()\n",
      "    (2): Linear(in_features=512, out_features=512, bias=True)\n",
      "    (3): ReLU()\n",
      "    (4): Linear(in_features=512, out_features=10, bias=True)\n",
      "    (5): ReLU()\n",
      "  )\n",
      ")\n"
     ]
    }
   ],
   "source": [
    "# NeuralNetworkクラスのインスタンスを作成し変数device上に移動させる\n",
    "model = NeuralNetwork().to(device)\n",
    "print(model)"
   ]
  },
  {
   "cell_type": "code",
   "execution_count": 23,
   "metadata": {},
   "outputs": [
    {
     "name": "stdout",
     "output_type": "stream",
     "text": [
      "tensor([6], device='cuda:0')\n"
     ]
    }
   ],
   "source": [
    "x = torch.rand(1, 28, 28, device=device)\n",
    "logits = model(x)\n",
    "# nn.Softmaxは関数を返す高階関数 func(logits) -> nn.Softmax(dim=1)(logits)\n",
    "pred_probab = nn.Softmax(dim=1)(logits)\n",
    "y_pred = pred_probab.argmax(1)\n",
    "print(y_pred)"
   ]
  },
  {
   "cell_type": "code",
   "execution_count": 24,
   "metadata": {},
   "outputs": [
    {
     "name": "stdout",
     "output_type": "stream",
     "text": [
      "torch.Size([3, 28, 28])\n"
     ]
    }
   ],
   "source": [
    "input_image = torch.rand(3, 28, 28)\n",
    "print(input_image.size())"
   ]
  },
  {
   "cell_type": "markdown",
   "metadata": {},
   "source": [
    "nn.Flattenレイヤーで，2次元の画像を1次元の値へと平坦化する．\n",
    "ミニバッチの0次元目は，サンプル番号を示す次元で，この次元はnn.Flattenを通しても変化しない．"
   ]
  },
  {
   "cell_type": "code",
   "execution_count": 25,
   "metadata": {},
   "outputs": [
    {
     "name": "stdout",
     "output_type": "stream",
     "text": [
      "torch.Size([3, 784])\n"
     ]
    }
   ],
   "source": [
    "flatten = nn.Flatten()\n",
    "flat_image = flatten(input_image)\n",
    "print(flat_image.size())"
   ]
  },
  {
   "cell_type": "markdown",
   "metadata": {},
   "source": [
    "nn.Linearは，線形変換を施す．\n",
    "linear layerは重みとバイアスのパラメータを保持している．"
   ]
  },
  {
   "cell_type": "code",
   "execution_count": 26,
   "metadata": {},
   "outputs": [
    {
     "name": "stdout",
     "output_type": "stream",
     "text": [
      "torch.Size([3, 20])\n"
     ]
    }
   ],
   "source": [
    "layer_1 = nn.Linear(in_features=28*28, out_features=20)\n",
    "hidden_1 = layer_1(flat_image)\n",
    "print(hidden_1.size())"
   ]
  },
  {
   "cell_type": "markdown",
   "metadata": {},
   "source": [
    "nn.ReLUは，非線形な活性化関数である．ニューラルネットワークの入力と出力の間にある，複雑な関係性を表現するために重要な要素である．"
   ]
  },
  {
   "cell_type": "code",
   "execution_count": 28,
   "metadata": {},
   "outputs": [
    {
     "name": "stdout",
     "output_type": "stream",
     "text": [
      "before ReLU:  tensor([[0.0000, 0.3416, 0.5311, 0.0000, 0.0000, 0.2162, 0.3235, 0.1535, 0.0086,\n",
      "         0.0000, 0.0000, 0.4195, 0.2369, 0.7379, 0.0000, 0.0000, 0.0000, 0.0253,\n",
      "         0.0000, 0.0000],\n",
      "        [0.0683, 0.1876, 0.4520, 0.0000, 0.0000, 0.0000, 0.1567, 0.2630, 0.0000,\n",
      "         0.0191, 0.0000, 0.3495, 0.0000, 0.3337, 0.0000, 0.0000, 0.0000, 0.2326,\n",
      "         0.0000, 0.3852],\n",
      "        [0.0689, 0.0206, 0.4425, 0.0151, 0.0000, 0.0341, 0.2844, 0.3195, 0.0000,\n",
      "         0.0000, 0.0000, 0.3026, 0.0000, 0.2739, 0.0000, 0.2519, 0.0000, 0.0531,\n",
      "         0.0000, 0.1635]], grad_fn=<ReluBackward0>)\n",
      "\n",
      "after ReLU:  tensor([[0.0000, 0.3416, 0.5311, 0.0000, 0.0000, 0.2162, 0.3235, 0.1535, 0.0086,\n",
      "         0.0000, 0.0000, 0.4195, 0.2369, 0.7379, 0.0000, 0.0000, 0.0000, 0.0253,\n",
      "         0.0000, 0.0000],\n",
      "        [0.0683, 0.1876, 0.4520, 0.0000, 0.0000, 0.0000, 0.1567, 0.2630, 0.0000,\n",
      "         0.0191, 0.0000, 0.3495, 0.0000, 0.3337, 0.0000, 0.0000, 0.0000, 0.2326,\n",
      "         0.0000, 0.3852],\n",
      "        [0.0689, 0.0206, 0.4425, 0.0151, 0.0000, 0.0341, 0.2844, 0.3195, 0.0000,\n",
      "         0.0000, 0.0000, 0.3026, 0.0000, 0.2739, 0.0000, 0.2519, 0.0000, 0.0531,\n",
      "         0.0000, 0.1635]], grad_fn=<ReluBackward0>)\n"
     ]
    }
   ],
   "source": [
    "print('before ReLU: ', hidden_1, end='\\n\\n')\n",
    "hidden_1 = nn.ReLU()(hidden_1)\n",
    "print('after ReLU: ', hidden_1)"
   ]
  },
  {
   "cell_type": "markdown",
   "metadata": {},
   "source": [
    "nn.Sequentialは，モジュールを順番に格納する箱のような要素．\n",
    "入力データはnn.Sequentialに定義された順番に各モジュールを伝播する．"
   ]
  },
  {
   "cell_type": "code",
   "execution_count": 29,
   "metadata": {},
   "outputs": [
    {
     "name": "stdout",
     "output_type": "stream",
     "text": [
      "tensor([[ 0.3315,  0.1550, -0.2051,  0.2970,  0.0321, -0.0154, -0.1014,  0.1262,\n",
      "          0.0711,  0.0094],\n",
      "        [ 0.2871,  0.3391, -0.0714,  0.6016,  0.1445, -0.0132, -0.0574,  0.2134,\n",
      "          0.0287, -0.1351],\n",
      "        [ 0.2126,  0.1111, -0.2029,  0.2579,  0.1028,  0.0447, -0.0281,  0.0561,\n",
      "          0.1066,  0.1559]], grad_fn=<AddmmBackward0>)\n"
     ]
    }
   ],
   "source": [
    "seq_modules = nn.Sequential(\n",
    "    flatten,\n",
    "    layer_1,\n",
    "    nn.ReLU(),\n",
    "    nn.Linear(20,10)\n",
    ")\n",
    "input_image = torch.rand(3,28,28)\n",
    "logits = seq_modules(input_image)\n",
    "print(logits)"
   ]
  },
  {
   "cell_type": "code",
   "execution_count": 30,
   "metadata": {},
   "outputs": [
    {
     "name": "stdout",
     "output_type": "stream",
     "text": [
      "tensor([[0.1283, 0.1075, 0.0750, 0.1239, 0.0951, 0.0907, 0.0832, 0.1045, 0.0989,\n",
      "         0.0930],\n",
      "        [0.1137, 0.1198, 0.0794, 0.1557, 0.0986, 0.0842, 0.0806, 0.1056, 0.0878,\n",
      "         0.0745],\n",
      "        [0.1132, 0.1022, 0.0747, 0.1184, 0.1014, 0.0957, 0.0890, 0.0968, 0.1018,\n",
      "         0.1069]], grad_fn=<SoftmaxBackward0>)\n"
     ]
    }
   ],
   "source": [
    "softmax = nn.Softmax(dim=1)\n",
    "pred_probab = softmax(logits)\n",
    "print(pred_probab)"
   ]
  },
  {
   "cell_type": "code",
   "execution_count": 31,
   "metadata": {},
   "outputs": [
    {
     "name": "stdout",
     "output_type": "stream",
     "text": [
      "model structure: \n",
      " NeuralNetwork(\n",
      "  (flatten): Flatten(start_dim=1, end_dim=-1)\n",
      "  (linear_relu_stack): Sequential(\n",
      "    (0): Linear(in_features=784, out_features=512, bias=True)\n",
      "    (1): ReLU()\n",
      "    (2): Linear(in_features=512, out_features=512, bias=True)\n",
      "    (3): ReLU()\n",
      "    (4): Linear(in_features=512, out_features=10, bias=True)\n",
      "    (5): ReLU()\n",
      "  )\n",
      ")\n",
      "layer: linear_relu_stack.0.weight size: torch.Size([512, 784]) values: tensor([[ 0.0179,  0.0166, -0.0159,  ...,  0.0169, -0.0252, -0.0181],\n",
      "        [ 0.0240,  0.0246, -0.0318,  ..., -0.0096, -0.0201, -0.0207]],\n",
      "       device='cuda:0', grad_fn=<SliceBackward0>) \n",
      "\n",
      "layer: linear_relu_stack.0.bias size: torch.Size([512]) values: tensor([-0.0064,  0.0027], device='cuda:0', grad_fn=<SliceBackward0>) \n",
      "\n",
      "layer: linear_relu_stack.2.weight size: torch.Size([512, 512]) values: tensor([[-0.0399, -0.0402,  0.0180,  ..., -0.0305,  0.0341, -0.0034],\n",
      "        [-0.0294,  0.0104,  0.0415,  ...,  0.0300, -0.0159,  0.0054]],\n",
      "       device='cuda:0', grad_fn=<SliceBackward0>) \n",
      "\n",
      "layer: linear_relu_stack.2.bias size: torch.Size([512]) values: tensor([0.0096, 0.0333], device='cuda:0', grad_fn=<SliceBackward0>) \n",
      "\n",
      "layer: linear_relu_stack.4.weight size: torch.Size([10, 512]) values: tensor([[-0.0238,  0.0073, -0.0255,  ..., -0.0039, -0.0440, -0.0253],\n",
      "        [-0.0181, -0.0367,  0.0362,  ...,  0.0027,  0.0382, -0.0119]],\n",
      "       device='cuda:0', grad_fn=<SliceBackward0>) \n",
      "\n",
      "layer: linear_relu_stack.4.bias size: torch.Size([10]) values: tensor([-0.0353,  0.0110], device='cuda:0', grad_fn=<SliceBackward0>) \n",
      "\n"
     ]
    }
   ],
   "source": [
    "print('model structure: \\n', model)\n",
    "\n",
    "for name, param in model.named_parameters():\n",
    "    print('layer:', name, 'size:', param.size(), 'values:', param[:2], '\\n')"
   ]
  }
 ],
 "metadata": {
  "interpreter": {
   "hash": "688ad565c08edb0899b8bd0741344b16fcf0b3dbcc26d6e95bbc405bd5ad4682"
  },
  "kernelspec": {
   "display_name": "Python 3.9.12 ('.venv': venv)",
   "language": "python",
   "name": "python3"
  },
  "language_info": {
   "codemirror_mode": {
    "name": "ipython",
    "version": 3
   },
   "file_extension": ".py",
   "mimetype": "text/x-python",
   "name": "python",
   "nbconvert_exporter": "python",
   "pygments_lexer": "ipython3",
   "version": "3.9.12"
  },
  "orig_nbformat": 4
 },
 "nbformat": 4,
 "nbformat_minor": 2
}
