{
 "cells": [
  {
   "cell_type": "code",
   "execution_count": 25,
   "metadata": {},
   "outputs": [],
   "source": [
    "%matplotlib inline"
   ]
  },
  {
   "cell_type": "code",
   "execution_count": 26,
   "metadata": {},
   "outputs": [],
   "source": [
    "import torch\n",
    "\n",
    "x = torch.ones(5)\n",
    "y = torch.zeros(3)\n",
    "w = torch.randn(5,3,requires_grad=True)\n",
    "b = torch.randn(3,requires_grad=True)\n",
    "z = torch.matmul(x,w)+b\n",
    "loss = torch.nn.functional.binary_cross_entropy_with_logits(z,y)"
   ]
  },
  {
   "cell_type": "code",
   "execution_count": 27,
   "metadata": {},
   "outputs": [
    {
     "name": "stdout",
     "output_type": "stream",
     "text": [
      "gradient function for z = <AddBackward0 object at 0x7fb640d5ec70>\n",
      "gradient function for loss= <BinaryCrossEntropyWithLogitsBackward0 object at 0x7fb640d5e6a0>\n"
     ]
    }
   ],
   "source": [
    "print('gradient function for z =', z.grad_fn)\n",
    "print('gradient function for loss=', loss.grad_fn)"
   ]
  },
  {
   "cell_type": "code",
   "execution_count": 28,
   "metadata": {},
   "outputs": [
    {
     "name": "stdout",
     "output_type": "stream",
     "text": [
      "tensor([[0.3079, 0.0063, 0.3212],\n",
      "        [0.3079, 0.0063, 0.3212],\n",
      "        [0.3079, 0.0063, 0.3212],\n",
      "        [0.3079, 0.0063, 0.3212],\n",
      "        [0.3079, 0.0063, 0.3212]])\n",
      "tensor([0.3079, 0.0063, 0.3212])\n"
     ]
    }
   ],
   "source": [
    "loss.backward()\n",
    "print(w.grad)\n",
    "print(b.grad)"
   ]
  },
  {
   "cell_type": "markdown",
   "metadata": {},
   "source": [
    "勾配計算を行わない方法\n",
    "\n",
    "デフォルトでは，requires_grad=Trueである全てのテンソルは計算履歴が保持され，勾配計算可能な状態である．\n",
    "だた，勾配計算が不要なケースも存在する．\n",
    "例えば，訓練済みモデルで推論するケースなど．\n",
    "すなわち，ネットワークの順伝播関数のみを使用する場合となる．\n",
    "実装コードで勾配計算を不要にするためには，torch.no_grad()のブロックにそれらのコードを記載する．"
   ]
  },
  {
   "cell_type": "code",
   "execution_count": 29,
   "metadata": {},
   "outputs": [
    {
     "name": "stdout",
     "output_type": "stream",
     "text": [
      "True\n",
      "False\n"
     ]
    }
   ],
   "source": [
    "z = torch.matmul(x,w)+b\n",
    "print(z.requires_grad)\n",
    "\n",
    "with torch.no_grad():\n",
    "    z = torch.matmul(x,w)+b\n",
    "print(z.requires_grad)"
   ]
  },
  {
   "cell_type": "markdown",
   "metadata": {},
   "source": [
    "同様に，detach()をテンソルに使用する事でも実現することが出来る．"
   ]
  },
  {
   "cell_type": "code",
   "execution_count": 30,
   "metadata": {},
   "outputs": [
    {
     "name": "stdout",
     "output_type": "stream",
     "text": [
      "False\n"
     ]
    }
   ],
   "source": [
    "z = torch.matmul(x,w)+b\n",
    "z_det = z.detach()\n",
    "print(z_det.requires_grad)"
   ]
  },
  {
   "cell_type": "markdown",
   "metadata": {},
   "source": [
    "勾配計算や追跡を不能にしたいケースはいくつかある．\n",
    "- ネットワークの一部パラメータを固定したいケース．（ファインチューニングなど）\n",
    "- 順伝播の計算スピードを高速化したいケース"
   ]
  },
  {
   "cell_type": "markdown",
   "metadata": {},
   "source": []
  }
 ],
 "metadata": {
  "interpreter": {
   "hash": "688ad565c08edb0899b8bd0741344b16fcf0b3dbcc26d6e95bbc405bd5ad4682"
  },
  "kernelspec": {
   "display_name": "Python 3.9.12 ('.venv': venv)",
   "language": "python",
   "name": "python3"
  },
  "language_info": {
   "codemirror_mode": {
    "name": "ipython",
    "version": 3
   },
   "file_extension": ".py",
   "mimetype": "text/x-python",
   "name": "python",
   "nbconvert_exporter": "python",
   "pygments_lexer": "ipython3",
   "version": "3.9.12"
  },
  "orig_nbformat": 4
 },
 "nbformat": 4,
 "nbformat_minor": 2
}
