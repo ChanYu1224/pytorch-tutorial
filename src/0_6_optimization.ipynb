{
 "cells": [
  {
   "cell_type": "code",
   "execution_count": 17,
   "metadata": {},
   "outputs": [],
   "source": [
    "%matplotlib inline"
   ]
  },
  {
   "cell_type": "code",
   "execution_count": 18,
   "metadata": {},
   "outputs": [],
   "source": [
    "import torch\n",
    "from torch import nn\n",
    "from torch.utils.data import DataLoader\n",
    "from torchvision import datasets\n",
    "from torchvision.transforms import ToTensor"
   ]
  },
  {
   "cell_type": "code",
   "execution_count": 19,
   "metadata": {},
   "outputs": [
    {
     "name": "stdout",
     "output_type": "stream",
     "text": [
      "now using cuda:3 as device\n"
     ]
    }
   ],
   "source": [
    "device = ''\n",
    "gpu_num = 3\n",
    "if torch.cuda.is_available():\n",
    "    device = 'cuda:'+str(gpu_num)\n",
    "else:\n",
    "    device = 'cpu'\n",
    "\n",
    "print('now using '+ device +' as device')"
   ]
  },
  {
   "cell_type": "code",
   "execution_count": 20,
   "metadata": {},
   "outputs": [],
   "source": [
    "training_data = datasets.FashionMNIST(\n",
    "    root='data',\n",
    "    train=True,\n",
    "    download=True,\n",
    "    transform=ToTensor(),\n",
    ")\n",
    "\n",
    "test_data = datasets.FashionMNIST(\n",
    "    root='data',\n",
    "    train=False,\n",
    "    download=True,\n",
    "    transform=ToTensor(),\n",
    ")\n",
    "\n",
    "train_dataloader = DataLoader(training_data, batch_size=64)\n",
    "test_dataloader = DataLoader(test_data, batch_size=64)"
   ]
  },
  {
   "cell_type": "code",
   "execution_count": 21,
   "metadata": {},
   "outputs": [],
   "source": [
    "class NeuralNetwork(nn.Module):\n",
    "    def __init__(self):\n",
    "        super(NeuralNetwork, self).__init__()\n",
    "        self.flatten = nn.Flatten()\n",
    "        self.linear_relu_stack = nn.Sequential(\n",
    "            nn.Linear(28*28, 512),\n",
    "            nn.ReLU(),\n",
    "            nn.Linear(512, 512),\n",
    "            nn.ReLU(),\n",
    "            nn.Linear(512, 10),\n",
    "            nn.ReLU(),\n",
    "        )\n",
    "\n",
    "    def forward(self, x):\n",
    "        x = self.flatten(x)\n",
    "        logits = self.linear_relu_stack(x)\n",
    "        return logits\n",
    "\n",
    "model = NeuralNetwork()"
   ]
  },
  {
   "cell_type": "markdown",
   "metadata": {},
   "source": [
    "ハイパーパラメータ\n",
    "- number of epochs\n",
    "- batch size\n",
    "- learning rate"
   ]
  },
  {
   "cell_type": "code",
   "execution_count": 22,
   "metadata": {},
   "outputs": [],
   "source": [
    "learning_rate = 0.01\n",
    "batch_size = 64\n",
    "epochs = 5"
   ]
  },
  {
   "cell_type": "markdown",
   "metadata": {},
   "source": [
    "損失関数：Loss Function\n",
    "\n",
    "一般的な損失関数としては、回帰タスクではnn.MSELoss、分類タスクではnn.NLLLoss(Negative Log Likelihood)が使用される。\n",
    "nn.CrossEntropyLossは、nn.LogSoftmaxとnn.NLLLossを結合した損失関数である。\n",
    "モデルが出力するlogit値をnn.CrossEntropyLossに与えて正規化し、予測誤差を求める。"
   ]
  },
  {
   "cell_type": "code",
   "execution_count": 23,
   "metadata": {},
   "outputs": [],
   "source": [
    "# loss functionの初期化\n",
    "loss_function = nn.CrossEntropyLoss()"
   ]
  },
  {
   "cell_type": "markdown",
   "metadata": {},
   "source": [
    "最適化アルゴリズム：Optimization Algorithms\n",
    "\n",
    "最適化アルゴリズムは、最適化プロセスの具体的な手続きである。\n",
    "最適化のロジックは全てoptimizerオブジェクト内に隠蔽される。\n",
    "今回は確率的勾配降下法：SGD(Stochastic Gradient Descent)を用いる。\n",
    "ただし、最適化関数にはADAMやRMSPropなど様々ある。\n",
    "訓練したいモデルパラメータをoptimizerに登録し、合わせて学習率をハイパーパラメータとして渡すことで初期化を行う。"
   ]
  },
  {
   "cell_type": "code",
   "execution_count": 24,
   "metadata": {},
   "outputs": [],
   "source": [
    "optimizer = torch.optim.SGD(model.parameters(), lr=learning_rate)"
   ]
  },
  {
   "cell_type": "markdown",
   "metadata": {},
   "source": [
    "いざ、最適化"
   ]
  },
  {
   "cell_type": "code",
   "execution_count": 25,
   "metadata": {},
   "outputs": [],
   "source": [
    "def train_loop(dataloader, model, loss_function, optimizer):\n",
    "    size = len(dataloader.dataset)\n",
    "    for batch, (x,y) in enumerate(dataloader):\n",
    "        # 予測と損失の計算\n",
    "        pred = model(x)\n",
    "        loss = loss_function(pred, y)\n",
    "\n",
    "        # バックプロパゲーション\n",
    "        optimizer.zero_grad() # モデルのパラメータの勾配をリセットする\n",
    "        loss.backward() # バックプロパゲーションを実行する\n",
    "        optimizer.step() # 各パラメータの勾配を使用してパラメータの値を調整する\n",
    "\n",
    "        if batch % 100 == 0:\n",
    "            loss = loss.item()\n",
    "            current = batch * len(x)\n",
    "            print('loss:', loss, current)\n",
    "        \n",
    "def test_loop(dataloader, model, loss_function):\n",
    "    size = len(dataloader.dataset)\n",
    "    test_loss = 0\n",
    "    correct = 0\n",
    "\n",
    "    with torch.no_grad():\n",
    "        for x,y in dataloader:\n",
    "            pred = model(x)\n",
    "            test_loss += loss_function(pred, y).item()\n",
    "            correct += (pred.argmax(1) == y).type(torch.float).sum().item()\n",
    "    \n",
    "    test_loss /= size\n",
    "    correct /= size\n",
    "    print('accuracy:', 100*correct)\n",
    "    print('avg loss:', test_loss)"
   ]
  },
  {
   "cell_type": "code",
   "execution_count": 26,
   "metadata": {},
   "outputs": [
    {
     "name": "stdout",
     "output_type": "stream",
     "text": [
      "epoch: 1\n",
      "loss: 2.3058481216430664 0\n",
      "loss: 2.275848865509033 6400\n",
      "loss: 2.151771306991577 12800\n",
      "loss: 2.0560784339904785 19200\n",
      "loss: 2.014932155609131 25600\n",
      "loss: 1.6336414813995361 32000\n",
      "loss: 1.8182488679885864 38400\n",
      "loss: 1.5035771131515503 44800\n",
      "loss: 1.5724382400512695 51200\n",
      "loss: 1.541049838066101 57600\n",
      "accuracy: 47.48\n",
      "avg loss: 0.023777528738975526\n",
      "epoch: 2\n",
      "loss: 1.4821146726608276 0\n",
      "loss: 1.622977375984192 6400\n",
      "loss: 1.232366919517517 12800\n",
      "loss: 1.4794665575027466 19200\n",
      "loss: 1.4643677473068237 25600\n",
      "loss: 1.230865240097046 32000\n",
      "loss: 1.5441426038742065 38400\n",
      "loss: 1.2364217042922974 44800\n",
      "loss: 1.3607491254806519 51200\n",
      "loss: 1.392218828201294 57600\n",
      "accuracy: 54.86\n",
      "avg loss: 0.02105268778204918\n",
      "epoch: 3\n",
      "loss: 1.2368872165679932 0\n",
      "loss: 1.4158728122711182 6400\n",
      "loss: 1.0439715385437012 12800\n",
      "loss: 1.3498764038085938 19200\n",
      "loss: 1.3443604707717896 25600\n",
      "loss: 1.1205943822860718 32000\n",
      "loss: 1.3884501457214355 38400\n",
      "loss: 1.1371403932571411 44800\n",
      "loss: 1.2686280012130737 51200\n",
      "loss: 1.2886775732040405 57600\n",
      "accuracy: 58.720000000000006\n",
      "avg loss: 0.01930073844194412\n",
      "epoch: 4\n",
      "loss: 1.0661429166793823 0\n",
      "loss: 1.2807224988937378 6400\n",
      "loss: 0.9309898018836975 12800\n",
      "loss: 1.2512452602386475 19200\n",
      "loss: 1.2627182006835938 25600\n",
      "loss: 1.0518490076065063 32000\n",
      "loss: 1.3085871934890747 38400\n",
      "loss: 1.1075364351272583 44800\n",
      "loss: 1.2226170301437378 51200\n",
      "loss: 1.225660800933838 57600\n",
      "accuracy: 59.84\n",
      "avg loss: 0.01847547286748886\n",
      "epoch: 5\n",
      "loss: 0.9792492985725403 0\n",
      "loss: 1.2155380249023438 6400\n",
      "loss: 0.881147563457489 12800\n",
      "loss: 1.1925548315048218 19200\n",
      "loss: 1.2159672975540161 25600\n",
      "loss: 1.022760033607483 32000\n",
      "loss: 1.2756917476654053 38400\n",
      "loss: 1.0961618423461914 44800\n",
      "loss: 1.1993396282196045 51200\n",
      "loss: 1.1892026662826538 57600\n",
      "accuracy: 60.75000000000001\n",
      "avg loss: 0.01808451244831085\n",
      "Done!\n"
     ]
    }
   ],
   "source": [
    "loss_function = nn.CrossEntropyLoss()\n",
    "optimizer = torch.optim.SGD(model.parameters(), lr=learning_rate)\n",
    "\n",
    "for t in range(epochs):\n",
    "    print('epoch:', t+1)\n",
    "    train_loop(train_dataloader, model, loss_function, optimizer)\n",
    "    test_loop(test_dataloader, model, loss_function)\n",
    "\n",
    "print('Done!')"
   ]
  }
 ],
 "metadata": {
  "interpreter": {
   "hash": "688ad565c08edb0899b8bd0741344b16fcf0b3dbcc26d6e95bbc405bd5ad4682"
  },
  "kernelspec": {
   "display_name": "Python 3.9.12 ('.venv': venv)",
   "language": "python",
   "name": "python3"
  },
  "language_info": {
   "codemirror_mode": {
    "name": "ipython",
    "version": 3
   },
   "file_extension": ".py",
   "mimetype": "text/x-python",
   "name": "python",
   "nbconvert_exporter": "python",
   "pygments_lexer": "ipython3",
   "version": "3.9.12"
  },
  "orig_nbformat": 4
 },
 "nbformat": 4,
 "nbformat_minor": 2
}
